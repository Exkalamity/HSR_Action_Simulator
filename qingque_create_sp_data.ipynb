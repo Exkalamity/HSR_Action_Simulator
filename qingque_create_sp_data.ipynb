{
 "cells": [
  {
   "cell_type": "code",
   "execution_count": 811,
   "metadata": {},
   "outputs": [],
   "source": [
    "import numpy as np\n",
    "import pandas as pd\n",
    "import random as rand\n",
    "from scipy.stats import norm\n"
   ]
  },
  {
   "cell_type": "markdown",
   "metadata": {},
   "source": [
    "# Function Definitions"
   ]
  },
  {
   "cell_type": "markdown",
   "metadata": {},
   "source": [
    "## Class Definition"
   ]
  },
  {
   "cell_type": "code",
   "execution_count": 812,
   "metadata": {},
   "outputs": [],
   "source": [
    "class DrawStats():\n",
    "    def __init__(self, sp_range = None):\n",
    "        self.draws = 0\n",
    "        self.draws_list = []\n",
    "        self.current_hand = None\n",
    "        self.datamean = []\n",
    "        self.datastd = []\n",
    "        self.starting_hand = None\n",
    "        self.dfdatamean = {}\n",
    "        self.dfdatastd = {}\n",
    "        self.datadict = {}\n",
    "        if sp_range is None:\n",
    "            self.sp_range = range(1,12)\n",
    "        else:\n",
    "            self.sp_range = sp_range\n",
    "        self.means = None\n",
    "        self.stds = None\n",
    "        self.raw_data = None\n",
    "\n",
    "\n",
    "    def draw(self):\n",
    "        self.draws +=1\n",
    "    \n",
    "    def add_entry(self):\n",
    "        self.draws_list.append(self.draws)\n",
    "        self.draws = 0\n",
    "    \n",
    "    def add_statistics(self):\n",
    "        self.datamean.append(np.mean(self.draws_list))\n",
    "        self.datastd.append(np.std(self.draws_list))\n",
    "        #del self.draws_list\n",
    "        self.draws_list = []\n",
    "\n",
    "    def add_dict_entry(self):\n",
    "        self.dfdatamean[self.starting_hand] = self.datamean\n",
    "        self.dfdatastd[self.starting_hand] = self.datastd\n",
    "        #del self.datastd, self.datastd\n",
    "        self.datastd = []\n",
    "        self.datamean = []\n",
    "    def create_stat_dfs(self):\n",
    "        self.means = pd.DataFrame.from_dict(self.dfdatamean)\n",
    "        self.means.index += self.sp_range[0]\n",
    "        self.stds = pd.DataFrame.from_dict(self.dfdatastd)\n",
    "        self.stds.index += self.sp_range[0]\n",
    "    def prob_at_least_for_single_row(self):\n",
    "        new_df = pd.DataFrame()\n",
    "        for col in self.means.columns:\n",
    "            p = []\n",
    "            for i in range(1,5):\n",
    "                p_value = 1- norm.cdf(i, loc = self.means[col], scale = self.stds[col])[0]\n",
    "                p.append(p_value)\n",
    "            new_df[col] = p\n",
    "        new_df.index +=1\n",
    "        return new_df\n",
    "    def prob_at_least(self,x):\n",
    "        new_df = pd.DataFrame()\n",
    "        for col in self.means.columns:\n",
    "            new_df[col] = norm.cdf(x, loc = self.means[col], scale = self.stds[col])\n",
    "        new_df.index +=x\n",
    "        return new_df\n",
    "    def prob_at_most(self,x):\n",
    "        new_df = pd.DataFrame()\n",
    "        for col in self.means.columns:\n",
    "            new_df[col] = norm.cdf(x, loc = self.means[col], scale = self.stds[col])\n",
    "        new_df.index +=x\n",
    "        return new_df"
   ]
  },
  {
   "cell_type": "markdown",
   "metadata": {},
   "source": [
    "## Function Definitions"
   ]
  },
  {
   "cell_type": "code",
   "execution_count": 813,
   "metadata": {},
   "outputs": [],
   "source": [
    "def skill():\n",
    "    return rand.randint(1,3), rand.randint(1,3)"
   ]
  },
  {
   "cell_type": "code",
   "execution_count": 814,
   "metadata": {},
   "outputs": [],
   "source": [
    "def hand_3_1_0(d, sp):\n",
    "    #d.current_hand = \"3-1-0\"\n",
    "    while True:\n",
    "        d.draw()\n",
    "        x,y = skill()\n",
    "        if x == 1 or y == 1:\n",
    "            d.current_hand = \"4-0-0\"\n",
    "            d.add_entry()\n",
    "            break\n",
    "        elif sp == d.draws:\n",
    "            d.current_hand = \"Failure\"\n",
    "            d.add_entry()\n",
    "            break\n",
    "        else:\n",
    "            pass"
   ]
  },
  {
   "cell_type": "code",
   "execution_count": 815,
   "metadata": {},
   "outputs": [],
   "source": [
    "def hand_2_2_0(d,sp):\n",
    "    while True:\n",
    "        d.draw()\n",
    "        x,y = skill()\n",
    "        if x == 1 and y == 1 or x == 2 and y == 2:\n",
    "            d.current_hand = \"4-0-0\"\n",
    "            d.add_entry()\n",
    "            break\n",
    "        elif sp == d.draws:\n",
    "            d.current_hand = \"Failure\"\n",
    "            d.add_entry()\n",
    "            break\n",
    "        elif x == 3 and y == 3:\n",
    "            pass\n",
    "        else:\n",
    "            d.current_hand = \"3-1-0\"\n",
    "            break"
   ]
  },
  {
   "cell_type": "code",
   "execution_count": 816,
   "metadata": {},
   "outputs": [],
   "source": [
    "def hand_2_1_1(d,sp):\n",
    "    d.draw()\n",
    "    x,y = skill()\n",
    "    if x == 1 and y == 1:\n",
    "        d.current_hand = \"4-0-0\"\n",
    "        d.add_entry()\n",
    "    elif sp == d.draws:\n",
    "        d.current_hand = \"Failure\"\n",
    "        d.add_entry()\n",
    "    elif x == 1 or y == 1:\n",
    "        d.current_hand = \"3-1-0\"\n",
    "    elif x == y:\n",
    "        d.current_hand = \"3-1-0\"\n",
    "    else:\n",
    "        d.current_hand = \"2-2-0\""
   ]
  },
  {
   "cell_type": "code",
   "execution_count": 817,
   "metadata": {},
   "outputs": [],
   "source": [
    "def hand_3_0_0(d,sp):\n",
    "    d.draw()\n",
    "    x,y = skill()\n",
    "    if x == 1 or y == 1:\n",
    "        d.current_hand = \"4-0-0\"\n",
    "        d.add_entry()\n",
    "    elif sp == d.draws:\n",
    "        d.current_hand = \"Failure\"\n",
    "        d.add_entry()\n",
    "    else:\n",
    "        d.current_hand = \"3-1-0\""
   ]
  },
  {
   "cell_type": "code",
   "execution_count": 818,
   "metadata": {},
   "outputs": [],
   "source": [
    "def hand_2_1_0(d,sp):\n",
    "    d.draw()\n",
    "    x,y = skill()\n",
    "    if x == 1 and y == 1:\n",
    "        d.current_hand = \"4-0-0\"\n",
    "        d.add_entry()\n",
    "    elif sp == d.draws:\n",
    "        d.current_hand = \"Failure\"\n",
    "        d.add_entry()\n",
    "    elif x == 1 or y == 1:\n",
    "        d.current_hand = \"3-1-0\"\n",
    "    elif x == 2 and y == 2:\n",
    "        d.current_hand = \"3-1-0\"\n",
    "    else:\n",
    "        d.current_hand = \"2-2-0\"\n"
   ]
  },
  {
   "cell_type": "code",
   "execution_count": 819,
   "metadata": {},
   "outputs": [],
   "source": [
    "def hand_1_1_1(d,sp):\n",
    "    d.draw()\n",
    "    x,y = skill()\n",
    "    if sp == d.draws:\n",
    "        d.current_hand = \"Failure\"\n",
    "        d.add_entry()\n",
    "    elif x == y:\n",
    "        d.current_hand = \"3-1-0\"\n",
    "    else:\n",
    "        d.current_hand = \"2-2-0\"\n",
    "    "
   ]
  },
  {
   "cell_type": "code",
   "execution_count": 820,
   "metadata": {},
   "outputs": [],
   "source": [
    "def hand_2_0_0(d,sp):\n",
    "    d.draw()\n",
    "    x,y = skill()\n",
    "    if x == 1 and y ==1:\n",
    "        d.current_hand = \"4-0-0\"\n",
    "        d.add_entry()\n",
    "    elif sp == d.draws:\n",
    "        d.current_hand = \"Failure\"\n",
    "        d.add_entry()\n",
    "    elif x == y:\n",
    "        d.current_hand = \"3-1-0\"\n",
    "    else:\n",
    "        d.current_hand = \"2-2-0\"\n",
    "    "
   ]
  },
  {
   "cell_type": "code",
   "execution_count": 821,
   "metadata": {},
   "outputs": [],
   "source": [
    "def hand_1_1_0(d,sp):\n",
    "    d.draw()\n",
    "    x,y = skill()\n",
    "    if sp == d.draws:\n",
    "        d.current_hand = \"Failure\"\n",
    "        d.add_entry()\n",
    "    elif x == 3 or y == 3:\n",
    "        d.current_hand = \"2-1-1\"\n",
    "    elif x == y == 1 or x == y == 2:\n",
    "        d.current_hand = \"3-1-0\"\n",
    "    else:\n",
    "        d.current_hand = \"2-2-0\"\n",
    "    "
   ]
  },
  {
   "cell_type": "code",
   "execution_count": 822,
   "metadata": {},
   "outputs": [],
   "source": [
    "def hand_1_0_0(d,sp):\n",
    "    d.draw()\n",
    "    x,y = skill()\n",
    "    if sp == d.draws:\n",
    "        d.current_hand = \"Failure\"\n",
    "        d.add_entry()\n",
    "    elif x == y == 1:\n",
    "        d.current_hand = \"3-0-0\"\n",
    "    elif x == 1 or y == 1:\n",
    "        d.current_hand = \"2-1-0\"\n",
    "    else:\n",
    "        d.current_hand = \"1-1-1\"    "
   ]
  },
  {
   "cell_type": "code",
   "execution_count": 823,
   "metadata": {},
   "outputs": [],
   "source": [
    "def test_hands(ds, starting_hands, trials):\n",
    "    for hand in starting_hands:\n",
    "        print(f\"Testing cases for {hand}\")\n",
    "        ds.starting_hand = hand\n",
    "        for sp in ds.sp_range:\n",
    "            for i in range(trials):\n",
    "                ds.current_hand = ds.starting_hand\n",
    "                if ds.current_hand == \"1-0-0\":\n",
    "                    hand_1_0_0(ds,sp)\n",
    "                if ds.current_hand == \"1-1-0\":\n",
    "                    hand_1_1_0(ds,sp)\n",
    "                if ds.current_hand == \"2-0-0\":\n",
    "                    hand_2_0_0(ds,sp)\n",
    "                if ds.current_hand == \"1-1-1\":\n",
    "                    hand_1_1_1(ds, sp)\n",
    "                if ds.current_hand == \"2-1-0\":\n",
    "                    hand_2_1_0(ds, sp)\n",
    "                if ds.current_hand == \"3-0-0\":\n",
    "                    hand_3_0_0(ds, sp)\n",
    "                if ds.current_hand == \"2-1-1\":\n",
    "                    hand_2_1_1(ds, sp)\n",
    "                if ds.current_hand == \"2-2-0\":\n",
    "                    hand_2_2_0(ds, sp)\n",
    "                if ds.current_hand == \"3-1-0\":\n",
    "                    hand_3_1_0(ds, sp)\n",
    "            # if sp>1:\n",
    "            #     print(f\"for {ds.starting_hand}: sp = {sp}, mean draws = {round(np.mean(ds.draws_list),2)} +/- {round(np.std(ds.draws_list),3)}\")\n",
    "            ds.add_statistics()\n",
    "        ds.add_dict_entry()\n",
    "    ds.create_stat_dfs()"
   ]
  },
  {
   "cell_type": "code",
   "execution_count": 824,
   "metadata": {},
   "outputs": [],
   "source": [
    "def create_raw_data(ds, starting_hands, trials, sp):\n",
    "    for hand in starting_hands:\n",
    "        ds.starting_hand = hand\n",
    "        for i in range(trials):\n",
    "            ds.current_hand = ds.starting_hand\n",
    "            if ds.current_hand == \"1-0-0\":\n",
    "                hand_1_0_0(ds,sp)\n",
    "            if ds.current_hand == \"1-1-0\":\n",
    "                hand_1_1_0(ds,sp)\n",
    "            if ds.current_hand == \"2-0-0\":\n",
    "                hand_2_0_0(ds,sp)\n",
    "            if ds.current_hand == \"1-1-1\":\n",
    "                hand_1_1_1(ds, sp)\n",
    "            if ds.current_hand == \"2-1-0\":\n",
    "                hand_2_1_0(ds, sp)\n",
    "            if ds.current_hand == \"3-0-0\":\n",
    "                hand_3_0_0(ds, sp)\n",
    "            if ds.current_hand == \"2-1-1\":\n",
    "                hand_2_1_1(ds, sp)\n",
    "            if ds.current_hand == \"2-2-0\":\n",
    "                hand_2_2_0(ds, sp)\n",
    "            if ds.current_hand == \"3-1-0\":\n",
    "                hand_3_1_0(ds, sp)\n",
    "            if ds.current_hand == \"Failure\":\n",
    "                ds.draws_list[-1] = -1\n",
    "        ds.datadict['\\\"'+ hand + '\\\"'] = ds.draws_list\n",
    "        ds.draws_list = []\n",
    "    df = pd.DataFrame.from_dict(ds.datadict)\n",
    "    ds.raw_data = df\n",
    "    df.to_csv(f\"raw_data/qq_draw_data_sp_limit_is_{sp}.csv\", index= False)\n",
    "\n",
    "            \n",
    "            # if sp>1:\n",
    "            #     print(f\"for {ds.starting_hand}: sp = {sp}, mean draws = {round(np.mean(ds.draws_list),2)} +/- {round(np.std(ds.draws_list),3)}\")"
   ]
  },
  {
   "cell_type": "markdown",
   "metadata": {},
   "source": [
    "# Test Scripts"
   ]
  },
  {
   "cell_type": "code",
   "execution_count": 825,
   "metadata": {},
   "outputs": [],
   "source": [
    "normalsp = DrawStats()\n",
    "trials = 100**3\n",
    "starting_hands = [\"1-0-0\", \"1-1-0\", \"1-1-1\", \"2-0-0\", \"2-1-0\", \"2-1-1\", \"2-2-0\", \"3-0-0\", \"3-1-0\"]"
   ]
  },
  {
   "cell_type": "markdown",
   "metadata": {},
   "source": [
    "## Create Raw Data"
   ]
  },
  {
   "cell_type": "code",
   "execution_count": 829,
   "metadata": {},
   "outputs": [],
   "source": [
    "for i in range(1,13):\n",
    "    create_raw_data(normalsp, trials = trials, starting_hands=starting_hands, sp = i)"
   ]
  },
  {
   "cell_type": "code",
   "execution_count": null,
   "metadata": {},
   "outputs": [],
   "source": [
    "create_raw_data(normalsp, trials = trials, starting_hands=starting_hands, sp = 13)"
   ]
  },
  {
   "cell_type": "markdown",
   "metadata": {},
   "source": []
  },
  {
   "cell_type": "code",
   "execution_count": 827,
   "metadata": {},
   "outputs": [
    {
     "data": {
      "text/html": [
       "<div>\n",
       "<style scoped>\n",
       "    .dataframe tbody tr th:only-of-type {\n",
       "        vertical-align: middle;\n",
       "    }\n",
       "\n",
       "    .dataframe tbody tr th {\n",
       "        vertical-align: top;\n",
       "    }\n",
       "\n",
       "    .dataframe thead th {\n",
       "        text-align: right;\n",
       "    }\n",
       "</style>\n",
       "<table border=\"1\" class=\"dataframe\">\n",
       "  <thead>\n",
       "    <tr style=\"text-align: right;\">\n",
       "      <th></th>\n",
       "      <th>\"1-0-0\"</th>\n",
       "      <th>\"1-1-0\"</th>\n",
       "      <th>\"1-1-1\"</th>\n",
       "      <th>\"2-0-0\"</th>\n",
       "      <th>\"2-1-0\"</th>\n",
       "      <th>\"2-1-1\"</th>\n",
       "      <th>\"2-2-0\"</th>\n",
       "      <th>\"3-0-0\"</th>\n",
       "      <th>\"3-1-0\"</th>\n",
       "    </tr>\n",
       "  </thead>\n",
       "  <tbody>\n",
       "    <tr>\n",
       "      <th>0</th>\n",
       "      <td>2</td>\n",
       "      <td>3</td>\n",
       "      <td>3</td>\n",
       "      <td>3</td>\n",
       "      <td>3</td>\n",
       "      <td>2</td>\n",
       "      <td>2</td>\n",
       "      <td>1</td>\n",
       "      <td>1</td>\n",
       "    </tr>\n",
       "    <tr>\n",
       "      <th>1</th>\n",
       "      <td>3</td>\n",
       "      <td>3</td>\n",
       "      <td>3</td>\n",
       "      <td>4</td>\n",
       "      <td>2</td>\n",
       "      <td>1</td>\n",
       "      <td>-1</td>\n",
       "      <td>3</td>\n",
       "      <td>1</td>\n",
       "    </tr>\n",
       "    <tr>\n",
       "      <th>2</th>\n",
       "      <td>-1</td>\n",
       "      <td>4</td>\n",
       "      <td>3</td>\n",
       "      <td>4</td>\n",
       "      <td>4</td>\n",
       "      <td>1</td>\n",
       "      <td>3</td>\n",
       "      <td>1</td>\n",
       "      <td>1</td>\n",
       "    </tr>\n",
       "    <tr>\n",
       "      <th>3</th>\n",
       "      <td>-1</td>\n",
       "      <td>3</td>\n",
       "      <td>2</td>\n",
       "      <td>2</td>\n",
       "      <td>2</td>\n",
       "      <td>2</td>\n",
       "      <td>3</td>\n",
       "      <td>2</td>\n",
       "      <td>2</td>\n",
       "    </tr>\n",
       "    <tr>\n",
       "      <th>4</th>\n",
       "      <td>3</td>\n",
       "      <td>2</td>\n",
       "      <td>-1</td>\n",
       "      <td>3</td>\n",
       "      <td>3</td>\n",
       "      <td>4</td>\n",
       "      <td>3</td>\n",
       "      <td>3</td>\n",
       "      <td>2</td>\n",
       "    </tr>\n",
       "    <tr>\n",
       "      <th>...</th>\n",
       "      <td>...</td>\n",
       "      <td>...</td>\n",
       "      <td>...</td>\n",
       "      <td>...</td>\n",
       "      <td>...</td>\n",
       "      <td>...</td>\n",
       "      <td>...</td>\n",
       "      <td>...</td>\n",
       "      <td>...</td>\n",
       "    </tr>\n",
       "    <tr>\n",
       "      <th>999995</th>\n",
       "      <td>5</td>\n",
       "      <td>3</td>\n",
       "      <td>3</td>\n",
       "      <td>4</td>\n",
       "      <td>4</td>\n",
       "      <td>4</td>\n",
       "      <td>3</td>\n",
       "      <td>2</td>\n",
       "      <td>1</td>\n",
       "    </tr>\n",
       "    <tr>\n",
       "      <th>999996</th>\n",
       "      <td>4</td>\n",
       "      <td>3</td>\n",
       "      <td>2</td>\n",
       "      <td>-1</td>\n",
       "      <td>4</td>\n",
       "      <td>3</td>\n",
       "      <td>3</td>\n",
       "      <td>1</td>\n",
       "      <td>5</td>\n",
       "    </tr>\n",
       "    <tr>\n",
       "      <th>999997</th>\n",
       "      <td>3</td>\n",
       "      <td>4</td>\n",
       "      <td>2</td>\n",
       "      <td>4</td>\n",
       "      <td>3</td>\n",
       "      <td>3</td>\n",
       "      <td>1</td>\n",
       "      <td>1</td>\n",
       "      <td>1</td>\n",
       "    </tr>\n",
       "    <tr>\n",
       "      <th>999998</th>\n",
       "      <td>-1</td>\n",
       "      <td>5</td>\n",
       "      <td>4</td>\n",
       "      <td>2</td>\n",
       "      <td>1</td>\n",
       "      <td>4</td>\n",
       "      <td>1</td>\n",
       "      <td>1</td>\n",
       "      <td>1</td>\n",
       "    </tr>\n",
       "    <tr>\n",
       "      <th>999999</th>\n",
       "      <td>4</td>\n",
       "      <td>-1</td>\n",
       "      <td>3</td>\n",
       "      <td>2</td>\n",
       "      <td>2</td>\n",
       "      <td>4</td>\n",
       "      <td>3</td>\n",
       "      <td>3</td>\n",
       "      <td>-1</td>\n",
       "    </tr>\n",
       "  </tbody>\n",
       "</table>\n",
       "<p>1000000 rows × 9 columns</p>\n",
       "</div>"
      ],
      "text/plain": [
       "        \"1-0-0\"  \"1-1-0\"  \"1-1-1\"  \"2-0-0\"  \"2-1-0\"  \"2-1-1\"  \"2-2-0\"  \\\n",
       "0             2        3        3        3        3        2        2   \n",
       "1             3        3        3        4        2        1       -1   \n",
       "2            -1        4        3        4        4        1        3   \n",
       "3            -1        3        2        2        2        2        3   \n",
       "4             3        2       -1        3        3        4        3   \n",
       "...         ...      ...      ...      ...      ...      ...      ...   \n",
       "999995        5        3        3        4        4        4        3   \n",
       "999996        4        3        2       -1        4        3        3   \n",
       "999997        3        4        2        4        3        3        1   \n",
       "999998       -1        5        4        2        1        4        1   \n",
       "999999        4       -1        3        2        2        4        3   \n",
       "\n",
       "        \"3-0-0\"  \"3-1-0\"  \n",
       "0             1        1  \n",
       "1             3        1  \n",
       "2             1        1  \n",
       "3             2        2  \n",
       "4             3        2  \n",
       "...         ...      ...  \n",
       "999995        2        1  \n",
       "999996        1        5  \n",
       "999997        1        1  \n",
       "999998        1        1  \n",
       "999999        3       -1  \n",
       "\n",
       "[1000000 rows x 9 columns]"
      ]
     },
     "execution_count": 827,
     "metadata": {},
     "output_type": "execute_result"
    }
   ],
   "source": [
    "normalsp.raw_data"
   ]
  },
  {
   "cell_type": "markdown",
   "metadata": {},
   "source": [
    "## Max 11 SP"
   ]
  },
  {
   "cell_type": "code",
   "execution_count": 828,
   "metadata": {},
   "outputs": [
    {
     "ename": "SyntaxError",
     "evalue": "'break' outside loop (668683560.py, line 1)",
     "output_type": "error",
     "traceback": [
      "\u001b[1;36m  Cell \u001b[1;32mIn[828], line 1\u001b[1;36m\u001b[0m\n\u001b[1;33m    break\u001b[0m\n\u001b[1;37m    ^\u001b[0m\n\u001b[1;31mSyntaxError\u001b[0m\u001b[1;31m:\u001b[0m 'break' outside loop\n"
     ]
    }
   ],
   "source": [
    "break"
   ]
  },
  {
   "cell_type": "code",
   "execution_count": null,
   "metadata": {},
   "outputs": [],
   "source": [
    "test_hands(normalsp, starting_hands, 1000000 )"
   ]
  },
  {
   "cell_type": "markdown",
   "metadata": {},
   "source": [
    "Mean SP used for a paticular hand given current SP"
   ]
  },
  {
   "cell_type": "code",
   "execution_count": null,
   "metadata": {},
   "outputs": [],
   "source": [
    "normalsp.dfmeans"
   ]
  },
  {
   "cell_type": "markdown",
   "metadata": {},
   "source": [
    "Standard Deviation of SP used for a paticular had given current SP"
   ]
  },
  {
   "cell_type": "code",
   "execution_count": null,
   "metadata": {},
   "outputs": [],
   "source": [
    "normalsp.dfstds"
   ]
  },
  {
   "cell_type": "code",
   "execution_count": null,
   "metadata": {},
   "outputs": [],
   "source": []
  },
  {
   "cell_type": "markdown",
   "metadata": {},
   "source": [
    "Probability of getting max damage bonus given a starting hand and current SP"
   ]
  },
  {
   "cell_type": "code",
   "execution_count": null,
   "metadata": {},
   "outputs": [],
   "source": [
    "df_p_4_or_more = normalsp.cdf_prob(4)"
   ]
  },
  {
   "cell_type": "code",
   "execution_count": null,
   "metadata": {},
   "outputs": [],
   "source": [
    "df_p_4_or_more"
   ]
  },
  {
   "cell_type": "markdown",
   "metadata": {},
   "source": [
    "Probability of getting 3 damage bonuses given a starting hand and current SP"
   ]
  },
  {
   "cell_type": "code",
   "execution_count": null,
   "metadata": {},
   "outputs": [],
   "source": [
    "df_p_3_or_more = normalsp.cdf_prob(3)"
   ]
  },
  {
   "cell_type": "code",
   "execution_count": null,
   "metadata": {},
   "outputs": [],
   "source": [
    "df_p_3_or_more"
   ]
  },
  {
   "cell_type": "markdown",
   "metadata": {},
   "source": [
    "## Very Large SP"
   ]
  },
  {
   "cell_type": "code",
   "execution_count": null,
   "metadata": {},
   "outputs": [],
   "source": [
    "infsp = DrawStats([10000])\n",
    "test_hands(infsp, starting_hands=starting_hands, trials = 10000000)"
   ]
  },
  {
   "cell_type": "markdown",
   "metadata": {},
   "source": []
  },
  {
   "cell_type": "code",
   "execution_count": null,
   "metadata": {},
   "outputs": [],
   "source": [
    "infsp.means"
   ]
  },
  {
   "cell_type": "code",
   "execution_count": null,
   "metadata": {},
   "outputs": [],
   "source": [
    "infsp.stds"
   ]
  },
  {
   "cell_type": "code",
   "execution_count": null,
   "metadata": {},
   "outputs": [],
   "source": [
    "p4 = infsp.prob_at_least_for_single_row()"
   ]
  },
  {
   "cell_type": "markdown",
   "metadata": {},
   "source": [
    "Probability of getting at least X number of draws given the state of your hand assuming infinite SP available (This will be closer to like theoretical expected values)"
   ]
  },
  {
   "cell_type": "code",
   "execution_count": null,
   "metadata": {},
   "outputs": [],
   "source": [
    "p4"
   ]
  },
  {
   "cell_type": "code",
   "execution_count": null,
   "metadata": {},
   "outputs": [],
   "source": []
  }
 ],
 "metadata": {
  "kernelspec": {
   "display_name": "base",
   "language": "python",
   "name": "python3"
  },
  "language_info": {
   "codemirror_mode": {
    "name": "ipython",
    "version": 3
   },
   "file_extension": ".py",
   "mimetype": "text/x-python",
   "name": "python",
   "nbconvert_exporter": "python",
   "pygments_lexer": "ipython3",
   "version": "3.11.5"
  }
 },
 "nbformat": 4,
 "nbformat_minor": 2
}
